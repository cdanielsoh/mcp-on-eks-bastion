{
 "cells": [
  {
   "metadata": {},
   "cell_type": "code",
   "outputs": [],
   "execution_count": null,
   "source": "",
   "id": "7284e2ed494ed23f"
  },
  {
   "metadata": {
    "ExecuteTime": {
     "end_time": "2025-04-07T09:53:42.356375Z",
     "start_time": "2025-04-07T09:53:40.995086Z"
    }
   },
   "cell_type": "code",
   "source": [
    "import asyncio\n",
    "from InlineAgent.agent import InlineAgent\n",
    "from InlineAgent.tools import MCPHttp\n",
    "from IPython.display import clear_output\n",
    "from IPython.display import display\n",
    "import ipywidgets as widgets"
   ],
   "id": "bd59993f8146ccd8",
   "outputs": [],
   "execution_count": 1
  },
  {
   "metadata": {},
   "cell_type": "markdown",
   "source": [
    "![Bastion DNS](./static/bastion.png)\n",
    "\n",
    "Copy the _McpEksStack.BastionInstancePublicDnsName_ CDK stack output to the cell below"
   ],
   "id": "7ac87458b4267a17"
  },
  {
   "metadata": {
    "ExecuteTime": {
     "end_time": "2025-04-07T09:53:43.117189Z",
     "start_time": "2025-04-07T09:53:43.114016Z"
    }
   },
   "cell_type": "code",
   "source": [
    "# Replace with your EC2 instance IP or hostname\n",
    "EC2_HOST = \"ec2-35-85-57-47.us-west-2.compute.amazonaws.com\"\n",
    "MCP_PORT = 8000"
   ],
   "id": "e3c3aec0e2629d63",
   "outputs": [],
   "execution_count": 2
  },
  {
   "metadata": {
    "ExecuteTime": {
     "end_time": "2025-04-07T09:53:44.020198Z",
     "start_time": "2025-04-07T09:53:44.008760Z"
    }
   },
   "cell_type": "code",
   "source": [
    "async def setup_agent():\n",
    "    # Configure connection to your Kubernetes MCP server\n",
    "    mcp_client = await MCPHttp.create(\n",
    "        url=f\"http://{EC2_HOST}:{MCP_PORT}/sse\",\n",
    "        # You can add headers like authorization headers if needed\n",
    "        headers={},\n",
    "        timeout=10,  # Connection timeout\n",
    "        sse_read_timeout=300  # Read timeout (5 minutes)\n",
    "    )\n",
    "\n",
    "    # Create the InlineAgent with the MCP client\n",
    "    agent = InlineAgent(\n",
    "        foundation_model=\"us.anthropic.claude-3-5-haiku-20241022-v1:0\",\n",
    "        instruction=\"\"\"You are a Kubernetes cluster management assistant that helps users manage their EKS cluster.\n",
    "You have access to various kubectl commands through an MCP server.\n",
    "When users ask you about Kubernetes resources or want to perform actions, use the appropriate tools.\n",
    "Always show the relevant information clearly and explain what you're doing.\n",
    "\"\"\",\n",
    "        agent_name=\"kubernetes-assistant\",\n",
    "        action_groups=[\n",
    "            {\n",
    "                \"name\": \"KubernetesActions\",\n",
    "                \"description\": \"Tools for managing Kubernetes clusters\",\n",
    "                \"mcp_clients\": [mcp_client]\n",
    "            }\n",
    "        ]\n",
    "    )\n",
    "\n",
    "    return agent"
   ],
   "id": "7397a2b103f8959b",
   "outputs": [],
   "execution_count": 3
  },
  {
   "metadata": {
    "ExecuteTime": {
     "end_time": "2025-04-07T09:53:46.199688Z",
     "start_time": "2025-04-07T09:53:46.166817Z"
    }
   },
   "cell_type": "code",
   "source": [
    "output = widgets.Output()\n",
    "text_input = widgets.Text(\n",
    "    value='',\n",
    "    placeholder='Type your question here...',\n",
    "    description='Query:',\n",
    "    disabled=False,\n",
    "    layout=widgets.Layout(width='80%')\n",
    ")\n",
    "send_button = widgets.Button(\n",
    "    description='Send',\n",
    "    disabled=False,\n",
    "    button_style='primary',\n",
    "    tooltip='Send query to Kubernetes assistant',\n",
    "    icon='paper-plane'\n",
    ")\n",
    "clear_button = widgets.Button(\n",
    "    description='Clear Chat',\n",
    "    disabled=False,\n",
    "    button_style='warning',\n",
    "    tooltip='Clear chat history',\n",
    "    icon='trash'\n",
    ")"
   ],
   "id": "9ae9e726da4d4c76",
   "outputs": [],
   "execution_count": 4
  },
  {
   "metadata": {
    "ExecuteTime": {
     "end_time": "2025-04-07T09:53:46.598994Z",
     "start_time": "2025-04-07T09:53:46.594462Z"
    }
   },
   "cell_type": "code",
   "source": [
    "agent = None\n",
    "\n",
    "async def initialize():\n",
    "    global agent\n",
    "    with output:\n",
    "        print(\"Initializing Kubernetes assistant...\")\n",
    "        agent = await setup_agent()\n",
    "        initial_response = await agent.invoke(\n",
    "            \"Hello! I'm your Kubernetes assistant. How can I help you with your EKS cluster today?\"\n",
    "        )\n",
    "        print(\"Assistant: \", initial_response)"
   ],
   "id": "94fcd75b850c97da",
   "outputs": [],
   "execution_count": 5
  },
  {
   "metadata": {
    "ExecuteTime": {
     "end_time": "2025-04-07T09:53:48.760333Z",
     "start_time": "2025-04-07T09:53:48.753563Z"
    }
   },
   "cell_type": "code",
   "source": [
    "# Handle button clicks\n",
    "def on_send_button_clicked(b):\n",
    "    user_query = text_input.value\n",
    "    if not user_query.strip():\n",
    "        return\n",
    "\n",
    "    text_input.value = ''\n",
    "\n",
    "    with output:\n",
    "        print(f\"You: {user_query}\")\n",
    "\n",
    "    # Use asyncio to handle the async agent.invoke call\n",
    "    async def process_query():\n",
    "        global agent\n",
    "        if agent is None:\n",
    "            agent = await setup_agent()\n",
    "\n",
    "        response = await agent.invoke(user_query)\n",
    "        with output:\n",
    "            print(f\"Assistant: {response}\")\n",
    "\n",
    "    asyncio.create_task(process_query())\n",
    "\n",
    "def on_clear_button_clicked(b):\n",
    "    with output:\n",
    "        clear_output()\n",
    "        print(\"Chat history cleared.\")"
   ],
   "id": "ccbc9e613a8b49cf",
   "outputs": [],
   "execution_count": 6
  },
  {
   "metadata": {
    "ExecuteTime": {
     "end_time": "2025-04-07T09:54:15.795444Z",
     "start_time": "2025-04-07T09:54:15.370910Z"
    }
   },
   "cell_type": "code",
   "source": [
    "# Connect button clicks to handlers\n",
    "send_button.on_click(on_send_button_clicked)\n",
    "clear_button.on_click(on_clear_button_clicked)\n",
    "# Display the UI\n",
    "from ipywidgets import VBox, HBox, Text, Button, Output, Layout\n",
    "from IPython.display import display\n",
    "\n",
    "ui = VBox([\n",
    "    output,\n",
    "    HBox([text_input, send_button, clear_button])\n",
    "])\n",
    "display(ui)\n",
    "# Initialize the agent when this cell is run\n",
    "await initialize()"
   ],
   "id": "55c1ac9de3bc05ba",
   "outputs": [
    {
     "ename": "ImportError",
     "evalue": "cannot import name 'display_widget' from 'IPython.display' (/home/ec2-user/mcp-eks/.venv/lib/python3.12/site-packages/IPython/display.py)",
     "output_type": "error",
     "traceback": [
      "\u001B[31m---------------------------------------------------------------------------\u001B[39m",
      "\u001B[31mImportError\u001B[39m                               Traceback (most recent call last)",
      "\u001B[36mCell\u001B[39m\u001B[36m \u001B[39m\u001B[32mIn[9]\u001B[39m\u001B[32m, line 5\u001B[39m\n\u001B[32m      3\u001B[39m clear_button.on_click(on_clear_button_clicked)\n\u001B[32m      4\u001B[39m \u001B[38;5;66;03m# Display the UI\u001B[39;00m\n\u001B[32m----> \u001B[39m\u001B[32m5\u001B[39m \u001B[38;5;28;01mfrom\u001B[39;00m\u001B[38;5;250m \u001B[39m\u001B[34;01mIPython\u001B[39;00m\u001B[34;01m.\u001B[39;00m\u001B[34;01mdisplay\u001B[39;00m\u001B[38;5;250m \u001B[39m\u001B[38;5;28;01mimport\u001B[39;00m display_widget\n\u001B[32m      6\u001B[39m ui = widgets.VBox([\n\u001B[32m      7\u001B[39m     output,\n\u001B[32m      8\u001B[39m     widgets.HBox([text_input, send_button, clear_button])\n\u001B[32m      9\u001B[39m ])\n\u001B[32m     10\u001B[39m display_widget(ui)\n",
      "\u001B[31mImportError\u001B[39m: cannot import name 'display_widget' from 'IPython.display' (/home/ec2-user/mcp-eks/.venv/lib/python3.12/site-packages/IPython/display.py)"
     ]
    }
   ],
   "execution_count": 9
  },
  {
   "metadata": {},
   "cell_type": "code",
   "outputs": [],
   "execution_count": null,
   "source": "",
   "id": "66c4b7db8d18e023"
  }
 ],
 "metadata": {
  "kernelspec": {
   "display_name": "Python 3",
   "language": "python",
   "name": "python3"
  },
  "language_info": {
   "codemirror_mode": {
    "name": "ipython",
    "version": 2
   },
   "file_extension": ".py",
   "mimetype": "text/x-python",
   "name": "python",
   "nbconvert_exporter": "python",
   "pygments_lexer": "ipython2",
   "version": "2.7.6"
  }
 },
 "nbformat": 4,
 "nbformat_minor": 5
}
