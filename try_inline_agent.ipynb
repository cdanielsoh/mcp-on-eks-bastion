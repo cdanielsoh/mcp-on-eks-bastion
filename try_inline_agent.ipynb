{
 "cells": [
  {
   "metadata": {},
   "cell_type": "code",
   "outputs": [],
   "execution_count": null,
   "source": "",
   "id": "7284e2ed494ed23f"
  },
  {
   "metadata": {
    "ExecuteTime": {
     "end_time": "2025-04-07T09:53:42.356375Z",
     "start_time": "2025-04-07T09:53:40.995086Z"
    }
   },
   "cell_type": "code",
   "source": [
    "import asyncio\n",
    "from InlineAgent.agent import InlineAgent\n",
    "from InlineAgent.tools import MCPHttp\n",
    "from IPython.display import clear_output\n",
    "from IPython.display import display\n",
    "import ipywidgets as widgets"
   ],
   "id": "bd59993f8146ccd8",
   "outputs": [],
   "execution_count": 1
  },
  {
   "metadata": {},
   "cell_type": "markdown",
   "source": [
    "![Bastion DNS](./static/bastion.png)\n",
    "\n",
    "Copy the _McpEksStack.BastionInstancePublicDnsName_ CDK stack output to the cell below"
   ],
   "id": "7ac87458b4267a17"
  },
  {
   "metadata": {
    "ExecuteTime": {
     "end_time": "2025-04-07T09:53:43.117189Z",
     "start_time": "2025-04-07T09:53:43.114016Z"
    }
   },
   "cell_type": "code",
   "source": [
    "# Replace with your EC2 instance IP or hostname\n",
    "EC2_HOST = \"ec2-35-85-57-47.us-west-2.compute.amazonaws.com\"\n",
    "MCP_PORT = 8000"
   ],
   "id": "e3c3aec0e2629d63",
   "outputs": [],
   "execution_count": 2
  },
  {
   "metadata": {
    "ExecuteTime": {
     "end_time": "2025-04-07T09:53:44.020198Z",
     "start_time": "2025-04-07T09:53:44.008760Z"
    }
   },
   "cell_type": "code",
   "source": [
    "async def setup_agent():\n",
    "    # Configure connection to your Kubernetes MCP server\n",
    "    mcp_client = await MCPHttp.create(\n",
    "        url=f\"http://{EC2_HOST}:{MCP_PORT}/sse\",\n",
    "        # You can add headers like authorization headers if needed\n",
    "        headers={},\n",
    "        timeout=10,  # Connection timeout\n",
    "        sse_read_timeout=300  # Read timeout (5 minutes)\n",
    "    )\n",
    "\n",
    "    # Create the InlineAgent with the MCP client\n",
    "    agent = InlineAgent(\n",
    "        foundation_model=\"us.anthropic.claude-3-5-haiku-20241022-v1:0\",\n",
    "        instruction=\"\"\"You are a Kubernetes cluster management assistant that helps users manage their EKS cluster.\n",
    "You have access to various kubectl commands through an MCP server.\n",
    "When users ask you about Kubernetes resources or want to perform actions, use the appropriate tools.\n",
    "Always show the relevant information clearly and explain what you're doing.\n",
    "\"\"\",\n",
    "        agent_name=\"kubernetes-assistant\",\n",
    "        action_groups=[\n",
    "            {\n",
    "                \"name\": \"KubernetesActions\",\n",
    "                \"description\": \"Tools for managing Kubernetes clusters\",\n",
    "                \"mcp_clients\": [mcp_client]\n",
    "            }\n",
    "        ]\n",
    "    )\n",
    "\n",
    "    return agent"
   ],
   "id": "7397a2b103f8959b",
   "outputs": [],
   "execution_count": 3
  }
 ],
 "metadata": {
  "kernelspec": {
   "display_name": "Python 3",
   "language": "python",
   "name": "python3"
  },
  "language_info": {
   "codemirror_mode": {
    "name": "ipython",
    "version": 2
   },
   "file_extension": ".py",
   "mimetype": "text/x-python",
   "name": "python",
   "nbconvert_exporter": "python",
   "pygments_lexer": "ipython2",
   "version": "2.7.6"
  }
 },
 "nbformat": 4,
 "nbformat_minor": 5
}
